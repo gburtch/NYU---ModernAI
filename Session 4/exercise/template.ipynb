{
 "cells": [
  {
   "cell_type": "markdown",
   "metadata": {
    "id": "U8YOCpyn-rKa"
   },
   "source": [
    "#**BLUE BIKE TRIP DURATION PREDICTION (Total: / 15 points)**"
   ]
  },
  {
   "cell_type": "markdown",
   "metadata": {
    "id": "fxAF2jbRA3WY"
   },
   "source": [
    "Context: You have received some data from Blue Bikes (the Boston Bikesharing Service). They have asked you to provide a predictive model that can accurately predict how long a given bike rental will last, at the time the rental begins. The use case is that the bike share company wants to be able to predict how long a customer will have the bike in their possession, when they begin their rental, in order to better manage operational efficiency across the bike network. Note that when the customer initiates a bike rental, they enter the starting station ID and ending station ID for their trip, into the mobile app."
   ]
  },
  {
   "cell_type": "markdown",
   "metadata": {
    "id": "jF365-n0EC-q"
   },
   "source": [
    "#*Import and Pre-process Data*"
   ]
  },
  {
   "cell_type": "code",
   "execution_count": 3,
   "metadata": {
    "executionInfo": {
     "elapsed": 370,
     "status": "ok",
     "timestamp": 1742928156225,
     "user": {
      "displayName": "Gordon Burtch",
      "userId": "10144756805379529333"
     },
     "user_tz": 240
    },
    "id": "a2ab2j0wz3oA"
   },
   "outputs": [],
   "source": [
    "import pandas as pd\n",
    "import numpy as np\n",
    "import tensorflow as tf\n",
    "from tensorflow import keras\n",
    "import matplotlib.pyplot as plt\n",
    "\n",
    "bluebikes = pd.read_csv('https://raw.githubusercontent.com/gburtch/NYU---ModernAI/refs/heads/main/Session%204/datasets/bluebikes_sample.csv')\n",
    "\n",
    "# This function MUST return a pair of objects (predictors, labels, in that order) as numpy arrays.\n",
    "def processData(data):\n",
    "\n",
    "    # pre-process your data here, and return your two numpy arrays...\n",
    "    startmin = []\n",
    "    for i in range(len(data)):\n",
    "        startmin.append(int(data.loc[i,'starttime'].split(\":\")[0]))\n",
    "\n",
    "    data['startmin'] = startmin\n",
    "    \n",
    "    data['usertype_bin'] = np.where(data['usertype']=='Subscriber',1,0)\n",
    "\n",
    "    # This will throw away string variables.\n",
    "    data = data.select_dtypes([np.number])\n",
    "    \n",
    "    # Here is how we could one-hot encode our data. \n",
    "    gender_onehot = utils.to_categorical(data['gender'])\n",
    "    usertype_onehot = utils.to_categorical(data['usertype_bin'])\n",
    "\n",
    "    predictors_cont = data[['start station latitude','start station longitude','end station latitude','end station longitude','birth year','startmin']].to_numpy()\n",
    "\n",
    "    # Pulling out continuous predictors, and 'normalizing' them.\n",
    "    # You could also accomplish this with a BatchNormalization() layer in your model.\n",
    "    predictors_cont = np.subtract(predictors_cont,np.mean(predictors_cont,axis=0).reshape(1,predictors_cont.shape[1]))\n",
    "    predictors_cont = np.divide(predictors_cont,np.std(predictors_cont,axis=0).reshape(1,predictors_cont.shape[1]))\n",
    "\n",
    "    # Putting everything back together.\n",
    "    data = np.concatenate((data[['tripduration']].to_numpy(),predictors_cont,usertype_onehot,gender_onehot),axis=1)\n",
    "    \n",
    "    # Create the labels vector and the matrix of predictors.\n",
    "    labels = data[:,0]\n",
    "    predictors = data[:,1:]\n",
    "    \n",
    "    train_labels = labels\n",
    "    train_predictors = predictors\n",
    "\n",
    "    return train_predictors, train_labels\n"
   ]
  },
  {
   "cell_type": "code",
   "execution_count": 4,
   "metadata": {
    "colab": {
     "base_uri": "https://localhost:8080/",
     "height": 362
    },
    "executionInfo": {
     "elapsed": 109,
     "status": "ok",
     "timestamp": 1742928169145,
     "user": {
      "displayName": "Gordon Burtch",
      "userId": "10144756805379529333"
     },
     "user_tz": 240
    },
    "id": "XWrUrBErnSai",
    "outputId": "e675a784-7b40-4e9b-ba44-09eeafc0fa0b"
   },
   "outputs": [
    {
     "data": {
      "application/vnd.google.colaboratory.intrinsic+json": {
       "summary": "{\n  \"name\": \"bluebikes\",\n  \"rows\": 9000,\n  \"fields\": [\n    {\n      \"column\": \"tripduration\",\n      \"properties\": {\n        \"dtype\": \"number\",\n        \"std\": 1398,\n        \"min\": 61,\n        \"max\": 86912,\n        \"num_unique_values\": 2094,\n        \"samples\": [\n          1561,\n          104,\n          1582\n        ],\n        \"semantic_type\": \"\",\n        \"description\": \"\"\n      }\n    },\n    {\n      \"column\": \"starttime\",\n      \"properties\": {\n        \"dtype\": \"string\",\n        \"num_unique_values\": 7990,\n        \"samples\": [\n          \"04:42.8\",\n          \"15:31.8\",\n          \"10:08.5\"\n        ],\n        \"semantic_type\": \"\",\n        \"description\": \"\"\n      }\n    },\n    {\n      \"column\": \"stoptime\",\n      \"properties\": {\n        \"dtype\": \"string\",\n        \"num_unique_values\": 7966,\n        \"samples\": [\n          \"15:33.8\",\n          \"21:02.4\",\n          \"16:25.1\"\n        ],\n        \"semantic_type\": \"\",\n        \"description\": \"\"\n      }\n    },\n    {\n      \"column\": \"start station id\",\n      \"properties\": {\n        \"dtype\": \"number\",\n        \"std\": 128,\n        \"min\": 1,\n        \"max\": 446,\n        \"num_unique_values\": 303,\n        \"samples\": [\n          197,\n          199,\n          379\n        ],\n        \"semantic_type\": \"\",\n        \"description\": \"\"\n      }\n    },\n    {\n      \"column\": \"start station name\",\n      \"properties\": {\n        \"dtype\": \"category\",\n        \"num_unique_values\": 303,\n        \"samples\": [\n          \"MLK Blvd at Washington St\",\n          \"Upham's Corner T Stop - Magnolia St at Dudley St\",\n          \"Tremont St at W. Dedham St\"\n        ],\n        \"semantic_type\": \"\",\n        \"description\": \"\"\n      }\n    },\n    {\n      \"column\": \"start station latitude\",\n      \"properties\": {\n        \"dtype\": \"number\",\n        \"std\": 0.016471376956124956,\n        \"min\": 42.28072514,\n        \"max\": 42.41250451,\n        \"num_unique_values\": 303,\n        \"samples\": [\n          42.32143814,\n          42.31869734,\n          42.34254914\n        ],\n        \"semantic_type\": \"\",\n        \"description\": \"\"\n      }\n    },\n    {\n      \"column\": \"start station longitude\",\n      \"properties\": {\n        \"dtype\": \"number\",\n        \"std\": 0.024169845741793643,\n        \"min\": -71.166491,\n        \"max\": -71.01619095,\n        \"num_unique_values\": 303,\n        \"samples\": [\n          -71.09126061,\n          -71.06978148,\n          -71.07421449\n        ],\n        \"semantic_type\": \"\",\n        \"description\": \"\"\n      }\n    },\n    {\n      \"column\": \"end station id\",\n      \"properties\": {\n        \"dtype\": \"number\",\n        \"std\": 126,\n        \"min\": 1,\n        \"max\": 446,\n        \"num_unique_values\": 311,\n        \"samples\": [\n          387,\n          96,\n          24\n        ],\n        \"semantic_type\": \"\",\n        \"description\": \"\"\n      }\n    },\n    {\n      \"column\": \"end station name\",\n      \"properties\": {\n        \"dtype\": \"category\",\n        \"num_unique_values\": 311,\n        \"samples\": [\n          \"Norman St at Kelvin St\",\n          \"Cambridge Main Library at Broadway / Trowbridge St\",\n          \"Seaport Square - Seaport Blvd at Northern Ave\"\n        ],\n        \"semantic_type\": \"\",\n        \"description\": \"\"\n      }\n    },\n    {\n      \"column\": \"end station latitude\",\n      \"properties\": {\n        \"dtype\": \"number\",\n        \"std\": 0.016442894987946273,\n        \"min\": 42.267902,\n        \"max\": 42.41427294,\n        \"num_unique_values\": 311,\n        \"samples\": [\n          42.40985878,\n          42.373379,\n          42.35148193\n        ],\n        \"semantic_type\": \"\",\n        \"description\": \"\"\n      }\n    },\n    {\n      \"column\": \"end station longitude\",\n      \"properties\": {\n        \"dtype\": \"number\",\n        \"std\": 0.024013238648468528,\n        \"min\": -71.166491,\n        \"max\": -71.006098,\n        \"num_unique_values\": 311,\n        \"samples\": [\n          -71.06631868,\n          -71.111075,\n          -71.04436085\n        ],\n        \"semantic_type\": \"\",\n        \"description\": \"\"\n      }\n    },\n    {\n      \"column\": \"bikeid\",\n      \"properties\": {\n        \"dtype\": \"number\",\n        \"std\": 1265,\n        \"min\": 218,\n        \"max\": 6173,\n        \"num_unique_values\": 2328,\n        \"samples\": [\n          4997,\n          2708,\n          5886\n        ],\n        \"semantic_type\": \"\",\n        \"description\": \"\"\n      }\n    },\n    {\n      \"column\": \"usertype\",\n      \"properties\": {\n        \"dtype\": \"category\",\n        \"num_unique_values\": 2,\n        \"samples\": [\n          \"Customer\",\n          \"Subscriber\"\n        ],\n        \"semantic_type\": \"\",\n        \"description\": \"\"\n      }\n    },\n    {\n      \"column\": \"birth year\",\n      \"properties\": {\n        \"dtype\": \"number\",\n        \"std\": 11,\n        \"min\": 1900,\n        \"max\": 2002,\n        \"num_unique_values\": 62,\n        \"samples\": [\n          1953,\n          1948\n        ],\n        \"semantic_type\": \"\",\n        \"description\": \"\"\n      }\n    },\n    {\n      \"column\": \"gender\",\n      \"properties\": {\n        \"dtype\": \"number\",\n        \"std\": 0,\n        \"min\": 0,\n        \"max\": 2,\n        \"num_unique_values\": 3,\n        \"samples\": [\n          1,\n          2\n        ],\n        \"semantic_type\": \"\",\n        \"description\": \"\"\n      }\n    }\n  ]\n}",
       "type": "dataframe",
       "variable_name": "bluebikes"
      },
      "text/html": [
       "\n",
       "  <div id=\"df-bb8f61b9-bfda-428d-8acc-72e2199583ae\" class=\"colab-df-container\">\n",
       "    <div>\n",
       "<style scoped>\n",
       "    .dataframe tbody tr th:only-of-type {\n",
       "        vertical-align: middle;\n",
       "    }\n",
       "\n",
       "    .dataframe tbody tr th {\n",
       "        vertical-align: top;\n",
       "    }\n",
       "\n",
       "    .dataframe thead th {\n",
       "        text-align: right;\n",
       "    }\n",
       "</style>\n",
       "<table border=\"1\" class=\"dataframe\">\n",
       "  <thead>\n",
       "    <tr style=\"text-align: right;\">\n",
       "      <th></th>\n",
       "      <th>tripduration</th>\n",
       "      <th>starttime</th>\n",
       "      <th>stoptime</th>\n",
       "      <th>start station id</th>\n",
       "      <th>start station name</th>\n",
       "      <th>start station latitude</th>\n",
       "      <th>start station longitude</th>\n",
       "      <th>end station id</th>\n",
       "      <th>end station name</th>\n",
       "      <th>end station latitude</th>\n",
       "      <th>end station longitude</th>\n",
       "      <th>bikeid</th>\n",
       "      <th>usertype</th>\n",
       "      <th>birth year</th>\n",
       "      <th>gender</th>\n",
       "    </tr>\n",
       "  </thead>\n",
       "  <tbody>\n",
       "    <tr>\n",
       "      <th>0</th>\n",
       "      <td>1584</td>\n",
       "      <td>09:36.7</td>\n",
       "      <td>36:00.9</td>\n",
       "      <td>442</td>\n",
       "      <td>Hyde Park Ave at Walk Hill St</td>\n",
       "      <td>42.296067</td>\n",
       "      <td>-71.116012</td>\n",
       "      <td>122</td>\n",
       "      <td>Burlington Ave at Brookline Ave</td>\n",
       "      <td>42.345733</td>\n",
       "      <td>-71.100694</td>\n",
       "      <td>4587</td>\n",
       "      <td>Subscriber</td>\n",
       "      <td>1967</td>\n",
       "      <td>1</td>\n",
       "    </tr>\n",
       "    <tr>\n",
       "      <th>1</th>\n",
       "      <td>894</td>\n",
       "      <td>40:48.2</td>\n",
       "      <td>55:43.0</td>\n",
       "      <td>80</td>\n",
       "      <td>MIT Stata Center at Vassar St / Main St</td>\n",
       "      <td>42.362131</td>\n",
       "      <td>-71.091156</td>\n",
       "      <td>144</td>\n",
       "      <td>Rogers St &amp; Land Blvd</td>\n",
       "      <td>42.365758</td>\n",
       "      <td>-71.076994</td>\n",
       "      <td>2340</td>\n",
       "      <td>Subscriber</td>\n",
       "      <td>1994</td>\n",
       "      <td>1</td>\n",
       "    </tr>\n",
       "    <tr>\n",
       "      <th>2</th>\n",
       "      <td>973</td>\n",
       "      <td>58:05.4</td>\n",
       "      <td>14:18.4</td>\n",
       "      <td>57</td>\n",
       "      <td>Columbus Ave at Massachusetts Ave</td>\n",
       "      <td>42.340543</td>\n",
       "      <td>-71.081388</td>\n",
       "      <td>68</td>\n",
       "      <td>Central Square at Mass Ave / Essex St</td>\n",
       "      <td>42.365070</td>\n",
       "      <td>-71.103100</td>\n",
       "      <td>2910</td>\n",
       "      <td>Subscriber</td>\n",
       "      <td>1994</td>\n",
       "      <td>1</td>\n",
       "    </tr>\n",
       "    <tr>\n",
       "      <th>3</th>\n",
       "      <td>606</td>\n",
       "      <td>46:45.0</td>\n",
       "      <td>56:51.4</td>\n",
       "      <td>149</td>\n",
       "      <td>175 N Harvard St</td>\n",
       "      <td>42.363796</td>\n",
       "      <td>-71.129164</td>\n",
       "      <td>221</td>\n",
       "      <td>Verizon Innovation Hub 10 Ware Street</td>\n",
       "      <td>42.372509</td>\n",
       "      <td>-71.113054</td>\n",
       "      <td>4526</td>\n",
       "      <td>Subscriber</td>\n",
       "      <td>1992</td>\n",
       "      <td>1</td>\n",
       "    </tr>\n",
       "    <tr>\n",
       "      <th>4</th>\n",
       "      <td>428</td>\n",
       "      <td>49:27.9</td>\n",
       "      <td>56:36.7</td>\n",
       "      <td>426</td>\n",
       "      <td>Surface Rd at Summer St</td>\n",
       "      <td>42.352946</td>\n",
       "      <td>-71.056564</td>\n",
       "      <td>420</td>\n",
       "      <td>Charles St at Pinckney St</td>\n",
       "      <td>42.358725</td>\n",
       "      <td>-71.070795</td>\n",
       "      <td>3780</td>\n",
       "      <td>Subscriber</td>\n",
       "      <td>1989</td>\n",
       "      <td>1</td>\n",
       "    </tr>\n",
       "  </tbody>\n",
       "</table>\n",
       "</div>\n",
       "    <div class=\"colab-df-buttons\">\n",
       "\n",
       "  <div class=\"colab-df-container\">\n",
       "    <button class=\"colab-df-convert\" onclick=\"convertToInteractive('df-bb8f61b9-bfda-428d-8acc-72e2199583ae')\"\n",
       "            title=\"Convert this dataframe to an interactive table.\"\n",
       "            style=\"display:none;\">\n",
       "\n",
       "  <svg xmlns=\"http://www.w3.org/2000/svg\" height=\"24px\" viewBox=\"0 -960 960 960\">\n",
       "    <path d=\"M120-120v-720h720v720H120Zm60-500h600v-160H180v160Zm220 220h160v-160H400v160Zm0 220h160v-160H400v160ZM180-400h160v-160H180v160Zm440 0h160v-160H620v160ZM180-180h160v-160H180v160Zm440 0h160v-160H620v160Z\"/>\n",
       "  </svg>\n",
       "    </button>\n",
       "\n",
       "  <style>\n",
       "    .colab-df-container {\n",
       "      display:flex;\n",
       "      gap: 12px;\n",
       "    }\n",
       "\n",
       "    .colab-df-convert {\n",
       "      background-color: #E8F0FE;\n",
       "      border: none;\n",
       "      border-radius: 50%;\n",
       "      cursor: pointer;\n",
       "      display: none;\n",
       "      fill: #1967D2;\n",
       "      height: 32px;\n",
       "      padding: 0 0 0 0;\n",
       "      width: 32px;\n",
       "    }\n",
       "\n",
       "    .colab-df-convert:hover {\n",
       "      background-color: #E2EBFA;\n",
       "      box-shadow: 0px 1px 2px rgba(60, 64, 67, 0.3), 0px 1px 3px 1px rgba(60, 64, 67, 0.15);\n",
       "      fill: #174EA6;\n",
       "    }\n",
       "\n",
       "    .colab-df-buttons div {\n",
       "      margin-bottom: 4px;\n",
       "    }\n",
       "\n",
       "    [theme=dark] .colab-df-convert {\n",
       "      background-color: #3B4455;\n",
       "      fill: #D2E3FC;\n",
       "    }\n",
       "\n",
       "    [theme=dark] .colab-df-convert:hover {\n",
       "      background-color: #434B5C;\n",
       "      box-shadow: 0px 1px 3px 1px rgba(0, 0, 0, 0.15);\n",
       "      filter: drop-shadow(0px 1px 2px rgba(0, 0, 0, 0.3));\n",
       "      fill: #FFFFFF;\n",
       "    }\n",
       "  </style>\n",
       "\n",
       "    <script>\n",
       "      const buttonEl =\n",
       "        document.querySelector('#df-bb8f61b9-bfda-428d-8acc-72e2199583ae button.colab-df-convert');\n",
       "      buttonEl.style.display =\n",
       "        google.colab.kernel.accessAllowed ? 'block' : 'none';\n",
       "\n",
       "      async function convertToInteractive(key) {\n",
       "        const element = document.querySelector('#df-bb8f61b9-bfda-428d-8acc-72e2199583ae');\n",
       "        const dataTable =\n",
       "          await google.colab.kernel.invokeFunction('convertToInteractive',\n",
       "                                                    [key], {});\n",
       "        if (!dataTable) return;\n",
       "\n",
       "        const docLinkHtml = 'Like what you see? Visit the ' +\n",
       "          '<a target=\"_blank\" href=https://colab.research.google.com/notebooks/data_table.ipynb>data table notebook</a>'\n",
       "          + ' to learn more about interactive tables.';\n",
       "        element.innerHTML = '';\n",
       "        dataTable['output_type'] = 'display_data';\n",
       "        await google.colab.output.renderOutput(dataTable, element);\n",
       "        const docLink = document.createElement('div');\n",
       "        docLink.innerHTML = docLinkHtml;\n",
       "        element.appendChild(docLink);\n",
       "      }\n",
       "    </script>\n",
       "  </div>\n",
       "\n",
       "\n",
       "<div id=\"df-ef2bd495-6ff8-4804-abb8-ee402f9871f2\">\n",
       "  <button class=\"colab-df-quickchart\" onclick=\"quickchart('df-ef2bd495-6ff8-4804-abb8-ee402f9871f2')\"\n",
       "            title=\"Suggest charts\"\n",
       "            style=\"display:none;\">\n",
       "\n",
       "<svg xmlns=\"http://www.w3.org/2000/svg\" height=\"24px\"viewBox=\"0 0 24 24\"\n",
       "     width=\"24px\">\n",
       "    <g>\n",
       "        <path d=\"M19 3H5c-1.1 0-2 .9-2 2v14c0 1.1.9 2 2 2h14c1.1 0 2-.9 2-2V5c0-1.1-.9-2-2-2zM9 17H7v-7h2v7zm4 0h-2V7h2v10zm4 0h-2v-4h2v4z\"/>\n",
       "    </g>\n",
       "</svg>\n",
       "  </button>\n",
       "\n",
       "<style>\n",
       "  .colab-df-quickchart {\n",
       "      --bg-color: #E8F0FE;\n",
       "      --fill-color: #1967D2;\n",
       "      --hover-bg-color: #E2EBFA;\n",
       "      --hover-fill-color: #174EA6;\n",
       "      --disabled-fill-color: #AAA;\n",
       "      --disabled-bg-color: #DDD;\n",
       "  }\n",
       "\n",
       "  [theme=dark] .colab-df-quickchart {\n",
       "      --bg-color: #3B4455;\n",
       "      --fill-color: #D2E3FC;\n",
       "      --hover-bg-color: #434B5C;\n",
       "      --hover-fill-color: #FFFFFF;\n",
       "      --disabled-bg-color: #3B4455;\n",
       "      --disabled-fill-color: #666;\n",
       "  }\n",
       "\n",
       "  .colab-df-quickchart {\n",
       "    background-color: var(--bg-color);\n",
       "    border: none;\n",
       "    border-radius: 50%;\n",
       "    cursor: pointer;\n",
       "    display: none;\n",
       "    fill: var(--fill-color);\n",
       "    height: 32px;\n",
       "    padding: 0;\n",
       "    width: 32px;\n",
       "  }\n",
       "\n",
       "  .colab-df-quickchart:hover {\n",
       "    background-color: var(--hover-bg-color);\n",
       "    box-shadow: 0 1px 2px rgba(60, 64, 67, 0.3), 0 1px 3px 1px rgba(60, 64, 67, 0.15);\n",
       "    fill: var(--button-hover-fill-color);\n",
       "  }\n",
       "\n",
       "  .colab-df-quickchart-complete:disabled,\n",
       "  .colab-df-quickchart-complete:disabled:hover {\n",
       "    background-color: var(--disabled-bg-color);\n",
       "    fill: var(--disabled-fill-color);\n",
       "    box-shadow: none;\n",
       "  }\n",
       "\n",
       "  .colab-df-spinner {\n",
       "    border: 2px solid var(--fill-color);\n",
       "    border-color: transparent;\n",
       "    border-bottom-color: var(--fill-color);\n",
       "    animation:\n",
       "      spin 1s steps(1) infinite;\n",
       "  }\n",
       "\n",
       "  @keyframes spin {\n",
       "    0% {\n",
       "      border-color: transparent;\n",
       "      border-bottom-color: var(--fill-color);\n",
       "      border-left-color: var(--fill-color);\n",
       "    }\n",
       "    20% {\n",
       "      border-color: transparent;\n",
       "      border-left-color: var(--fill-color);\n",
       "      border-top-color: var(--fill-color);\n",
       "    }\n",
       "    30% {\n",
       "      border-color: transparent;\n",
       "      border-left-color: var(--fill-color);\n",
       "      border-top-color: var(--fill-color);\n",
       "      border-right-color: var(--fill-color);\n",
       "    }\n",
       "    40% {\n",
       "      border-color: transparent;\n",
       "      border-right-color: var(--fill-color);\n",
       "      border-top-color: var(--fill-color);\n",
       "    }\n",
       "    60% {\n",
       "      border-color: transparent;\n",
       "      border-right-color: var(--fill-color);\n",
       "    }\n",
       "    80% {\n",
       "      border-color: transparent;\n",
       "      border-right-color: var(--fill-color);\n",
       "      border-bottom-color: var(--fill-color);\n",
       "    }\n",
       "    90% {\n",
       "      border-color: transparent;\n",
       "      border-bottom-color: var(--fill-color);\n",
       "    }\n",
       "  }\n",
       "</style>\n",
       "\n",
       "  <script>\n",
       "    async function quickchart(key) {\n",
       "      const quickchartButtonEl =\n",
       "        document.querySelector('#' + key + ' button');\n",
       "      quickchartButtonEl.disabled = true;  // To prevent multiple clicks.\n",
       "      quickchartButtonEl.classList.add('colab-df-spinner');\n",
       "      try {\n",
       "        const charts = await google.colab.kernel.invokeFunction(\n",
       "            'suggestCharts', [key], {});\n",
       "      } catch (error) {\n",
       "        console.error('Error during call to suggestCharts:', error);\n",
       "      }\n",
       "      quickchartButtonEl.classList.remove('colab-df-spinner');\n",
       "      quickchartButtonEl.classList.add('colab-df-quickchart-complete');\n",
       "    }\n",
       "    (() => {\n",
       "      let quickchartButtonEl =\n",
       "        document.querySelector('#df-ef2bd495-6ff8-4804-abb8-ee402f9871f2 button');\n",
       "      quickchartButtonEl.style.display =\n",
       "        google.colab.kernel.accessAllowed ? 'block' : 'none';\n",
       "    })();\n",
       "  </script>\n",
       "</div>\n",
       "\n",
       "    </div>\n",
       "  </div>\n"
      ],
      "text/plain": [
       "   tripduration starttime stoptime  start station id  \\\n",
       "0          1584   09:36.7  36:00.9               442   \n",
       "1           894   40:48.2  55:43.0                80   \n",
       "2           973   58:05.4  14:18.4                57   \n",
       "3           606   46:45.0  56:51.4               149   \n",
       "4           428   49:27.9  56:36.7               426   \n",
       "\n",
       "                        start station name  start station latitude  \\\n",
       "0            Hyde Park Ave at Walk Hill St               42.296067   \n",
       "1  MIT Stata Center at Vassar St / Main St               42.362131   \n",
       "2        Columbus Ave at Massachusetts Ave               42.340543   \n",
       "3                         175 N Harvard St               42.363796   \n",
       "4                  Surface Rd at Summer St               42.352946   \n",
       "\n",
       "   start station longitude  end station id  \\\n",
       "0               -71.116012             122   \n",
       "1               -71.091156             144   \n",
       "2               -71.081388              68   \n",
       "3               -71.129164             221   \n",
       "4               -71.056564             420   \n",
       "\n",
       "                        end station name  end station latitude  \\\n",
       "0        Burlington Ave at Brookline Ave             42.345733   \n",
       "1                  Rogers St & Land Blvd             42.365758   \n",
       "2  Central Square at Mass Ave / Essex St             42.365070   \n",
       "3  Verizon Innovation Hub 10 Ware Street             42.372509   \n",
       "4              Charles St at Pinckney St             42.358725   \n",
       "\n",
       "   end station longitude  bikeid    usertype  birth year  gender  \n",
       "0             -71.100694    4587  Subscriber        1967       1  \n",
       "1             -71.076994    2340  Subscriber        1994       1  \n",
       "2             -71.103100    2910  Subscriber        1994       1  \n",
       "3             -71.113054    4526  Subscriber        1992       1  \n",
       "4             -71.070795    3780  Subscriber        1989       1  "
      ]
     },
     "execution_count": 4,
     "metadata": {},
     "output_type": "execute_result"
    }
   ],
   "source": [
    "bluebikes.head()"
   ]
  },
  {
   "cell_type": "markdown",
   "metadata": {
    "id": "vhnwnEtEOeXd"
   },
   "source": [
    "#*Specify Your Neural Network Architecture, Pre-Process Your Sample*"
   ]
  },
  {
   "cell_type": "markdown",
   "metadata": {
    "id": "8KZXFE1fWMcj"
   },
   "source": [
    "Calling the data pre-processing function on the sample."
   ]
  },
  {
   "cell_type": "code",
   "execution_count": null,
   "metadata": {
    "id": "HToKOpiSoZmf"
   },
   "outputs": [],
   "source": [
    "predictors, labels = processData(bluebikes)"
   ]
  },
  {
   "cell_type": "markdown",
   "metadata": {
    "id": "RGYaiNdpoako"
   },
   "source": [
    "Specifying my Neural Network's structure."
   ]
  },
  {
   "cell_type": "code",
   "execution_count": null,
   "metadata": {
    "id": "8JBFs2OXdZzU"
   },
   "outputs": [],
   "source": [
    "def build_model():\n",
    "\n",
    "    # specify your model architecture here using the Keras sequential API\n",
    "    # compile your model, specifying the loss and other metrics you might want to track, plus the optimizer\n",
    "\n",
    "    return model"
   ]
  },
  {
   "cell_type": "markdown",
   "metadata": {
    "id": "5etiTCpuMQH5"
   },
   "source": [
    "#*Train Your Neural Network Here*"
   ]
  },
  {
   "cell_type": "code",
   "execution_count": null,
   "metadata": {
    "id": "imfRiESllpKm"
   },
   "outputs": [],
   "source": [
    "model = build_model()\n",
    "\n",
    "history = model.fit() ## specify your data and other parameters here for model fit"
   ]
  },
  {
   "cell_type": "markdown",
   "metadata": {
    "id": "XcD7R5-UG8sl"
   },
   "source": [
    "Plot your model performance over training here:"
   ]
  },
  {
   "cell_type": "code",
   "execution_count": null,
   "metadata": {
    "id": "jXQEVK1bHAHy"
   },
   "outputs": [],
   "source": [
    "import matplotlib.pyplot as plt\n",
    "\n",
    "# Build your plot.\n",
    "\n",
    "plt.show()"
   ]
  },
  {
   "cell_type": "markdown",
   "metadata": {
    "id": "799Ss4r4cDB5"
   },
   "source": [
    "#*Choose Final Configuration and Produce That Model Here:*"
   ]
  },
  {
   "cell_type": "code",
   "execution_count": null,
   "metadata": {
    "id": "TkVkAJaGcFCJ"
   },
   "outputs": [],
   "source": [
    "model = build_model()\n",
    "model.fit(predictors,labels,epochs=80, batch_size=50) # for example"
   ]
  },
  {
   "cell_type": "markdown",
   "metadata": {
    "id": "MFDAd_jXiFHR"
   },
   "source": [
    "Here's what the resulting model looks like."
   ]
  },
  {
   "cell_type": "code",
   "execution_count": null,
   "metadata": {
    "id": "XmZBB8Y4iJER"
   },
   "outputs": [],
   "source": [
    "model.summary()"
   ]
  }
 ],
 "metadata": {
  "accelerator": "GPU",
  "colab": {
   "provenance": []
  },
  "kernelspec": {
   "display_name": "Python 3",
   "name": "python3"
  },
  "language_info": {
   "codemirror_mode": {
    "name": "ipython",
    "version": 3
   },
   "file_extension": ".py",
   "mimetype": "text/x-python",
   "name": "python",
   "nbconvert_exporter": "python",
   "pygments_lexer": "ipython3",
   "version": "3.10.16"
  }
 },
 "nbformat": 4,
 "nbformat_minor": 0
}
